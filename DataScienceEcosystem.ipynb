{
 "cells": [
  {
   "cell_type": "markdown",
   "id": "4dac458e-d1ca-4068-967a-68da386e8961",
   "metadata": {},
   "source": [
    "# Data Science Tools and Ecosystem"
   ]
  },
  {
   "cell_type": "markdown",
   "id": "9823f808-bea0-4787-a343-16e98d70ee18",
   "metadata": {
    "tags": []
   },
   "source": [
    "**In this notebook, Data Science Tools and Ecosystem are summarized.**"
   ]
  },
  {
   "cell_type": "markdown",
   "id": "2b021d41-9e23-46bc-be20-a4041940393f",
   "metadata": {},
   "source": [
    "**Objectives:**\n",
    "+ List popular languages for Data Science\n",
    "+ List popular development environments for Data Science\n",
    "+ List popular libraries for Data Science"
   ]
  },
  {
   "cell_type": "markdown",
   "id": "88cc3fbc-acfc-4521-aad5-510ed16c7bd9",
   "metadata": {},
   "source": [
    "**Some of the popular languages that Data Scientists use are:**\n",
    "1. Python\n",
    "2. R\n",
    "3. Scala"
   ]
  },
  {
   "cell_type": "markdown",
   "id": "3cc723d2-0cdb-4bad-a577-e64e2e7373e0",
   "metadata": {},
   "source": [
    "## Author\n",
    "Thanh Thuy"
   ]
  },
  {
   "cell_type": "markdown",
   "id": "14adad05-dfcd-4a4c-abbf-e9381558cbfd",
   "metadata": {},
   "source": [
    "*Some of the commonly used libraries used by Data Scientists include:*\n",
    "1. TensorFlow\n",
    "2. NumPy\n",
    "3. SciKit-Learn"
   ]
  },
  {
   "cell_type": "markdown",
   "id": "5969cd60-06e3-4f45-9aa4-7a89e2951f95",
   "metadata": {},
   "source": [
    "| Data Science Tools |\n",
    "| ---- |\n",
    "| Jupyter |\n",
    "| RStudio |\n",
    "| VCode |"
   ]
  },
  {
   "cell_type": "markdown",
   "id": "d4b08d00-4270-4acd-91a7-0da786ce5d3c",
   "metadata": {},
   "source": [
    "### Below are a few examples of evaluating arithmetic expressions in Python"
   ]
  },
  {
   "cell_type": "code",
   "execution_count": 2,
   "id": "f29b4cc5-3113-4176-9cd3-2a4246940fae",
   "metadata": {
    "tags": []
   },
   "outputs": [
    {
     "data": {
      "text/plain": [
       "17"
      ]
     },
     "execution_count": 2,
     "metadata": {},
     "output_type": "execute_result"
    }
   ],
   "source": [
    "# This a simple arithmetic expression to mutiply then add integers\n",
    "(3*4)+5"
   ]
  },
  {
   "cell_type": "code",
   "execution_count": 3,
   "id": "220c0725-58a9-4a0f-a66e-56ce3218b431",
   "metadata": {
    "tags": []
   },
   "outputs": [
    {
     "name": "stdout",
     "output_type": "stream",
     "text": [
      "200 minutes is 3.3333333333333335 hours.\n"
     ]
    }
   ],
   "source": [
    "# This will convert 200 minutes to hours by diving by 60\n",
    "print(f\"200 minutes is {200/60} hours.\")"
   ]
  },
  {
   "cell_type": "code",
   "execution_count": null,
   "id": "71d29165-be8d-468c-b7fa-98eb6aa777cd",
   "metadata": {},
   "outputs": [],
   "source": []
  }
 ],
 "metadata": {
  "kernelspec": {
   "display_name": "Python",
   "language": "python",
   "name": "conda-env-python-py"
  },
  "language_info": {
   "codemirror_mode": {
    "name": "ipython",
    "version": 3
   },
   "file_extension": ".py",
   "mimetype": "text/x-python",
   "name": "python",
   "nbconvert_exporter": "python",
   "pygments_lexer": "ipython3",
   "version": "3.7.12"
  }
 },
 "nbformat": 4,
 "nbformat_minor": 5
}
